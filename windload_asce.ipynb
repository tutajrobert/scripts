{
 "cells": [
  {
   "cell_type": "markdown",
   "metadata": {},
   "source": [
    "## Wind load for Open buildings and Other structures per ASCE/SEI 7-10     \n",
    "Procedure comply with *Chapter 29 - Wind loads on other structures and building appurtenances*\n",
    "\n",
    "Input data for calculation shall be provided by the client. This data is:\n",
    "* Basic wind speed $V$\n",
    "* Topographic factor $K_{zt}$\n",
    "* Exposure category\n",
    "\n",
    "### Determination of design wind loads on other structures - *Section 29.5*"
   ]
  },
  {
   "cell_type": "markdown",
   "metadata": {},
   "source": [
    "$F = q_z \\cdot G \\cdot C_f \\cdot A_f$\n",
    "\n",
    "$q_z$ - velocity pressure evaluated at height $z$ - *Section 29.3*,  \n",
    "$G$ - gust effect factor - *Section 26.9*,    \n",
    "$C_f$ - net force coefficients - *Figs. 29-5-1 to 29-5-3*,    \n",
    "$A_f$ - projected area normal to the wind"
   ]
  },
  {
   "cell_type": "markdown",
   "metadata": {},
   "source": [
    "#### Determination of velocity pressure $q_z$\n",
    "$q_z = 0.613 \\cdot K_z \\cdot K_{zt} \\cdot K_d \\cdot V^2$"
   ]
  },
  {
   "cell_type": "markdown",
   "metadata": {},
   "source": [
    "#### Wind directionality factor $K_d$\n",
    "$K_d$ - wind directionality factor - *Section 26.6*  \n",
    "This directionality factor shall be only included in determining wind loads when the load combinations specified in Sections 2.3 and 2.4 are used for the design\n",
    "\n",
    "Fragment of *Table 26.6-1*\n",
    "\n",
    "Structure Type | Directionality Factor $K_d$\n",
    "---------------|----------------------------\n",
    "Chimneys, Tanks, and Similar Structures | square 0.9, round 0.95\n",
    "Lattice framework | 0.85\n",
    "\n",
    "#### Topographic factor $K_{zt}$\n",
    "$K_{zt}$ - topographic factor - *Section 26.8.2*  \n",
    "If this factor or other terrain data needed to factor derivation is not provided by the client, maximum value of topographic factor is assumed.\n",
    "\n",
    "$K_{zt} = (1 + K_1 K_2 K_3)^2$  \n",
    "\n",
    "Maximum values of partial factors - *Fig. 26.8-1*  \n",
    "$K_1 = 0.72, \\quad K_2 = 1, \\quad K_3 = 1$\n",
    "\n",
    "Maximum topographic factor resulting from the above: $K_{zt} = 2.9584$\n",
    "\n",
    "#### Velocity pressure exposure coefficient $K_z$\n",
    "$K_z$ - velocity pressure exposure coefficient - *Section 29.3.1* \n",
    "\n",
    "Fragment of *Table 29.3-1*\n",
    "\n",
    "Height above ground level | Exposure B | Exposure C | Exposure D\n",
    "--------------------------|------------|------------|-----------\n",
    "0 - 4.6 m | 0.57 | 0.85 | 1.03\n",
    "4.6 - 6.1 m | 0.62 | 0.9 | 1.08\n",
    "6.1 - 7.6 m | 0.66 | 0.94| 1.12"
   ]
  },
  {
   "cell_type": "markdown",
   "metadata": {},
   "source": [
    "#### Gust-effect factor $G$\n",
    "The gust-effect factor for a rigid building or other structure is permitted to be taken as 0.85.  \n",
    "\n",
    "Definition of rigid building: A building whose fundamental frequency is greater than or equal to 1 Hz\n",
    "\n",
    "The approximate building natural frequency shall be permitted to be calculated in accordance with Section 26.9.3 for structural steel, concrete, or masonry buildings\n",
    "\n",
    "Approximate natural frequency - *Section 26.9.3*  \n",
    "For structural steel moment-resisting frame buildings: $\\quad n_a = 22.2 \\ / \\ (3.281 \\cdot h)^{0.8}$, where $h$ - mean roof height in meters\n"
   ]
  },
  {
   "cell_type": "markdown",
   "metadata": {},
   "source": [
    "#### Net force coefficient $C_f$\n",
    "\n",
    "Fragment of Fig. 29.5-1 **Chimneys, Tanks, Rooftop Equipment, & Similar Structures**\n",
    "\n",
    "Cross-Section | Type of Surface | $h \\ / \\ D = 1$ | $h \\ / \\ D = 7$ | $h \\ / \\ D = 25$ \n",
    "--------------|-----------------|-----------------------------------------------------\n",
    "Square (normal to face) | All | 1.3 | 1.4 | 2.0\n",
    "Square (along diagonal) | All | 1.0 | 1.1 | 1.5\n",
    "Round ($D\\sqrt{q_z} > 5.3$ in metric) | Moderately smooth | 0.5 | 0.6 | 0.7\n",
    " | Rough ($D' \\ / \\ D = 0.02$) | 0.7 | 0.8 | 0.9\n",
    " | Very rough ($D' \\ / \\ D = 0.08$) | 0.8 | 1.0 | 1.2\n",
    "Round ($D\\sqrt{q_z} \\leq 5.3$ in metric) | All | 0.7 | 0.8 | 1.2\n",
    "\n",
    "Notes:\n",
    "1. Linear interpolation is permitted for $h \\ / \\ D$ values other than shown\n",
    "2. Notation: $D$ - diameter or least horizontal dimension, $D'$ - depth of ribs and spoilers, $h$ - height of structure, $q_z$ - velocity pressure\n",
    "\n",
    "Fragment of Fig. 29.5-2 **Lattice Frameworks**\n",
    "\n",
    "$\\epsilon$ | Flat-Sided Members | Rounded Members ($D\\sqrt{q_z} \\leq 5.3$ in metric) | Rounded Members ($D\\sqrt{q_z} > 5.3$ in metric)\n",
    "-----------|--------------------|----------------------------------------------------|--------------------------------\n",
    "< 0.1 | 2.0 | 1.2 | 0.8\n",
    "0.1 to 0.29 | 1.8 | 1.3 | 0.9\n",
    "0.3 to 0.7 | 1.6 | 1.5 | 1.1\n",
    "\n",
    "Notes:\n",
    "1. Notation: $\\epsilon$ - ratio of solid area to gross area, $D$ - diameter of a member, $q_z$ - velocity pressure\n",
    "\n",
    "### Calculation of velocity pressure $q_z$"
   ]
  },
  {
   "cell_type": "code",
   "execution_count": 20,
   "metadata": {
    "collapsed": false
   },
   "outputs": [
    {
     "name": "stdout",
     "output_type": "stream",
     "text": [
      "Calculation data:\n",
      "Kz =  0.57\n",
      "Kzt =  2.9584\n",
      "Kd =  1\n",
      "h =  5\n",
      "V =  100\n",
      "\n",
      "Natural frequency: na = 2.4 Hz\n",
      "Velocity pressure: qz = 10336.95 Pa\n",
      "                   sqrt(qz) = 101.7\n"
     ]
    }
   ],
   "source": [
    "V = 100\n",
    "h = 5\n",
    "Kd = 1\n",
    "Kzt = 2.9584\n",
    "Kz = 0.57\n",
    "\n",
    "calc_data = [Kz, Kzt, Kd, h, V]\n",
    "calc_data_names = [\"Kz\", \"Kzt\", \"Kd\", \"h\", \"V\"]\n",
    "\n",
    "qz = 0.613 * Kz * Kzt * Kd * (V**2)\n",
    "\n",
    "print(\"Calculation data:\")\n",
    "for i in range(len(calc_data)):\n",
    "    print(calc_data_names[i] + \" = \", calc_data[i])\n",
    "print(\"\")\n",
    "print(\"Natural frequency: na = %.1f Hz\" % (22.2 / ((3.281 * h) ** 0.8)))\n",
    "print(\"Velocity pressure: qz = %.2f Pa\" % qz)\n",
    "print(\"                   sqrt(qz) = %.1f\" % ((qz)**0.5))\n"
   ]
  },
  {
   "cell_type": "markdown",
   "metadata": {},
   "source": [
    "### Calculation of wind design loads and wind design pressures"
   ]
  },
  {
   "cell_type": "code",
   "execution_count": 21,
   "metadata": {
    "collapsed": false
   },
   "outputs": [
    {
     "name": "stdout",
     "output_type": "stream",
     "text": [
      "Design wind load on tank: F_tank = 26359.21 N\n",
      "Design wind pressure on tank: P_tank = 8786.40 Pa \n",
      "\n",
      "Design wind load on tank: F_tank = 22844.65 N\n",
      "Design wind pressure on tank: P_tank = 11422.32 Pa \n",
      "\n",
      "Design wind load on tank: F_tank = 94893.16 N\n",
      "Design wind pressure on tank: P_tank = 15815.53 Pa \n",
      "\n"
     ]
    }
   ],
   "source": [
    "G = 0.85\n",
    "\n",
    "tank_Cf = 1.0\n",
    "tank_Af = 3\n",
    "\n",
    "pipe_Cf = 1.3\n",
    "pipe_Af = 2\n",
    "\n",
    "member_Cf = 1.8\n",
    "member_Af = 6\n",
    "\n",
    "print(\"Design wind load on tank: F_tank = %.2f N\" % (qz * G * tank_Cf * tank_Af))\n",
    "print(\"Design wind pressure on tank: P_tank = %.2f Pa \\n\" % (qz * G * tank_Cf))\n",
    "\n",
    "print(\"Design wind load on tank: F_tank = %.2f N\" % (qz * G * pipe_Cf * pipe_Af))\n",
    "print(\"Design wind pressure on tank: P_tank = %.2f Pa \\n\" % (qz * G * pipe_Cf))\n",
    "\n",
    "print(\"Design wind load on tank: F_tank = %.2f N\" % (qz * G * member_Cf * member_Af))\n",
    "print(\"Design wind pressure on tank: P_tank = %.2f Pa \\n\" % (qz * G * member_Cf))"
   ]
  },
  {
   "cell_type": "code",
   "execution_count": null,
   "metadata": {
    "collapsed": true
   },
   "outputs": [],
   "source": []
  }
 ],
 "metadata": {
  "anaconda-cloud": {},
  "kernelspec": {
   "display_name": "Python [conda root]",
   "language": "python",
   "name": "conda-root-py"
  },
  "language_info": {
   "codemirror_mode": {
    "name": "ipython",
    "version": 3
   },
   "file_extension": ".py",
   "mimetype": "text/x-python",
   "name": "python",
   "nbconvert_exporter": "python",
   "pygments_lexer": "ipython3",
   "version": "3.5.2"
  }
 },
 "nbformat": 4,
 "nbformat_minor": 1
}
